{
 "cells": [
  {
   "cell_type": "code",
   "execution_count": 43,
   "id": "initial_id",
   "metadata": {
    "collapsed": true,
    "ExecuteTime": {
     "end_time": "2024-08-31T17:55:11.830262Z",
     "start_time": "2024-08-31T17:55:11.824954Z"
    }
   },
   "outputs": [],
   "source": [
    "# Import necessary libraries for data manipulation, visualization, and modeling\n",
    "import numpy as np\n",
    "import pandas as pd\n",
    "import matplotlib.pyplot as plt\n",
    "import seaborn as sns\n",
    "from sklearn.metrics import (roc_auc_score, accuracy_score, auc, roc_curve, \n",
    "                             f1_score, recall_score, precision_score)\n",
    "from sklearn.linear_model import LogisticRegression\n",
    "from sklearn.neighbors import KNeighborsClassifier\n",
    "from sklearn.preprocessing import LabelEncoder\n",
    "from sklearn.model_selection import GridSearchCV, train_test_split, learning_curve\n",
    "from sklearn.tree import DecisionTreeClassifier\n",
    "from sklearn.ensemble import (RandomForestClassifier, GradientBoostingClassifier, \n",
    "                              AdaBoostClassifier)\n",
    "from catboost import CatBoostClassifier\n",
    "from xgboost import XGBClassifier"
   ]
  },
  {
   "cell_type": "code",
   "execution_count": 44,
   "outputs": [],
   "source": [
    "# Display of data\n",
    "pd.set_option('display.max_columns', None)\n",
    "pd.set_option('display.width', 100)\n",
    "pd.set_option('display.max_rows', None)\n",
    "pd.set_option('display.float_format', lambda x: '%.3f' % x)"
   ],
   "metadata": {
    "collapsed": false,
    "ExecuteTime": {
     "end_time": "2024-08-31T17:55:12.504515Z",
     "start_time": "2024-08-31T17:55:12.498806Z"
    }
   },
   "id": "9b559893629bae25"
  },
  {
   "cell_type": "code",
   "execution_count": 45,
   "outputs": [
    {
     "data": {
      "text/plain": "   customerID  gender  SeniorCitizen Partner Dependents  tenure PhoneService     MultipleLines  \\\n0  7590-VHVEG  Female              0     Yes         No       1           No  No phone service   \n1  5575-GNVDE    Male              0      No         No      34          Yes                No   \n2  3668-QPYBK    Male              0      No         No       2          Yes                No   \n3  7795-CFOCW    Male              0      No         No      45           No  No phone service   \n4  9237-HQITU  Female              0      No         No       2          Yes                No   \n\n  InternetService OnlineSecurity OnlineBackup DeviceProtection TechSupport StreamingTV  \\\n0             DSL             No          Yes               No          No          No   \n1             DSL            Yes           No              Yes          No          No   \n2             DSL            Yes          Yes               No          No          No   \n3             DSL            Yes           No              Yes         Yes          No   \n4     Fiber optic             No           No               No          No          No   \n\n  StreamingMovies        Contract PaperlessBilling              PaymentMethod  MonthlyCharges  \\\n0              No  Month-to-month              Yes           Electronic check          29.850   \n1              No        One year               No               Mailed check          56.950   \n2              No  Month-to-month              Yes               Mailed check          53.850   \n3              No        One year               No  Bank transfer (automatic)          42.300   \n4              No  Month-to-month              Yes           Electronic check          70.700   \n\n  TotalCharges Churn  \n0        29.85    No  \n1       1889.5    No  \n2       108.15   Yes  \n3      1840.75    No  \n4       151.65   Yes  ",
      "text/html": "<div>\n<style scoped>\n    .dataframe tbody tr th:only-of-type {\n        vertical-align: middle;\n    }\n\n    .dataframe tbody tr th {\n        vertical-align: top;\n    }\n\n    .dataframe thead th {\n        text-align: right;\n    }\n</style>\n<table border=\"1\" class=\"dataframe\">\n  <thead>\n    <tr style=\"text-align: right;\">\n      <th></th>\n      <th>customerID</th>\n      <th>gender</th>\n      <th>SeniorCitizen</th>\n      <th>Partner</th>\n      <th>Dependents</th>\n      <th>tenure</th>\n      <th>PhoneService</th>\n      <th>MultipleLines</th>\n      <th>InternetService</th>\n      <th>OnlineSecurity</th>\n      <th>OnlineBackup</th>\n      <th>DeviceProtection</th>\n      <th>TechSupport</th>\n      <th>StreamingTV</th>\n      <th>StreamingMovies</th>\n      <th>Contract</th>\n      <th>PaperlessBilling</th>\n      <th>PaymentMethod</th>\n      <th>MonthlyCharges</th>\n      <th>TotalCharges</th>\n      <th>Churn</th>\n    </tr>\n  </thead>\n  <tbody>\n    <tr>\n      <th>0</th>\n      <td>7590-VHVEG</td>\n      <td>Female</td>\n      <td>0</td>\n      <td>Yes</td>\n      <td>No</td>\n      <td>1</td>\n      <td>No</td>\n      <td>No phone service</td>\n      <td>DSL</td>\n      <td>No</td>\n      <td>Yes</td>\n      <td>No</td>\n      <td>No</td>\n      <td>No</td>\n      <td>No</td>\n      <td>Month-to-month</td>\n      <td>Yes</td>\n      <td>Electronic check</td>\n      <td>29.850</td>\n      <td>29.85</td>\n      <td>No</td>\n    </tr>\n    <tr>\n      <th>1</th>\n      <td>5575-GNVDE</td>\n      <td>Male</td>\n      <td>0</td>\n      <td>No</td>\n      <td>No</td>\n      <td>34</td>\n      <td>Yes</td>\n      <td>No</td>\n      <td>DSL</td>\n      <td>Yes</td>\n      <td>No</td>\n      <td>Yes</td>\n      <td>No</td>\n      <td>No</td>\n      <td>No</td>\n      <td>One year</td>\n      <td>No</td>\n      <td>Mailed check</td>\n      <td>56.950</td>\n      <td>1889.5</td>\n      <td>No</td>\n    </tr>\n    <tr>\n      <th>2</th>\n      <td>3668-QPYBK</td>\n      <td>Male</td>\n      <td>0</td>\n      <td>No</td>\n      <td>No</td>\n      <td>2</td>\n      <td>Yes</td>\n      <td>No</td>\n      <td>DSL</td>\n      <td>Yes</td>\n      <td>Yes</td>\n      <td>No</td>\n      <td>No</td>\n      <td>No</td>\n      <td>No</td>\n      <td>Month-to-month</td>\n      <td>Yes</td>\n      <td>Mailed check</td>\n      <td>53.850</td>\n      <td>108.15</td>\n      <td>Yes</td>\n    </tr>\n    <tr>\n      <th>3</th>\n      <td>7795-CFOCW</td>\n      <td>Male</td>\n      <td>0</td>\n      <td>No</td>\n      <td>No</td>\n      <td>45</td>\n      <td>No</td>\n      <td>No phone service</td>\n      <td>DSL</td>\n      <td>Yes</td>\n      <td>No</td>\n      <td>Yes</td>\n      <td>Yes</td>\n      <td>No</td>\n      <td>No</td>\n      <td>One year</td>\n      <td>No</td>\n      <td>Bank transfer (automatic)</td>\n      <td>42.300</td>\n      <td>1840.75</td>\n      <td>No</td>\n    </tr>\n    <tr>\n      <th>4</th>\n      <td>9237-HQITU</td>\n      <td>Female</td>\n      <td>0</td>\n      <td>No</td>\n      <td>No</td>\n      <td>2</td>\n      <td>Yes</td>\n      <td>No</td>\n      <td>Fiber optic</td>\n      <td>No</td>\n      <td>No</td>\n      <td>No</td>\n      <td>No</td>\n      <td>No</td>\n      <td>No</td>\n      <td>Month-to-month</td>\n      <td>Yes</td>\n      <td>Electronic check</td>\n      <td>70.700</td>\n      <td>151.65</td>\n      <td>Yes</td>\n    </tr>\n  </tbody>\n</table>\n</div>"
     },
     "execution_count": 45,
     "metadata": {},
     "output_type": "execute_result"
    }
   ],
   "source": [
    "# Load dataset\n",
    "df = pd.read_csv(\"Telco-Customer-Churn.csv\")\n",
    "df.head()"
   ],
   "metadata": {
    "collapsed": false,
    "ExecuteTime": {
     "end_time": "2024-08-31T17:55:13.780722Z",
     "start_time": "2024-08-31T17:55:13.752058Z"
    }
   },
   "id": "dd693ac8d760d856"
  },
  {
   "cell_type": "code",
   "execution_count": 46,
   "outputs": [
    {
     "data": {
      "text/plain": "(7043, 21)"
     },
     "execution_count": 46,
     "metadata": {},
     "output_type": "execute_result"
    }
   ],
   "source": [
    "# Display the shape of the dataset\n",
    "df.shape"
   ],
   "metadata": {
    "collapsed": false,
    "ExecuteTime": {
     "end_time": "2024-08-31T17:55:15.203748Z",
     "start_time": "2024-08-31T17:55:15.176336Z"
    }
   },
   "id": "81bbf4f716ca13fd"
  },
  {
   "cell_type": "code",
   "execution_count": 47,
   "outputs": [],
   "source": [
    "# Drop the 'customerID' column as it's not needed for analysis\n",
    "df = df.drop(\"customerID\", axis=1)"
   ],
   "metadata": {
    "collapsed": false,
    "ExecuteTime": {
     "end_time": "2024-08-31T17:55:16.322041Z",
     "start_time": "2024-08-31T17:55:16.314153Z"
    }
   },
   "id": "95d1033f74a34319"
  },
  {
   "cell_type": "code",
   "execution_count": 48,
   "outputs": [
    {
     "name": "stdout",
     "output_type": "stream",
     "text": [
      "Observations: 7043\n",
      "Variables: 20\n",
      "cat_cols: 17\n",
      "num_cols: 2\n",
      "cat_but_car: 1\n",
      "num_but_cat: 1\n"
     ]
    }
   ],
   "source": [
    "# Function to grab column names for categorical, numerical, and categorical but cardinal variables\n",
    "def grab_col_names(dataframe, cat_th=10, car_th=20):\n",
    "    cat_cols = [col for col in dataframe.columns if dataframe[col].dtypes == \"O\"]\n",
    "    num_but_cat = [col for col in dataframe.columns if dataframe[col].nunique() < cat_th and dataframe[col].dtypes != \"O\"]\n",
    "    cat_but_car = [col for col in dataframe.columns if dataframe[col].nunique() > car_th and dataframe[col].dtypes == \"O\"]\n",
    "    cat_cols = cat_cols + num_but_cat\n",
    "    cat_cols = [col for col in cat_cols if col not in cat_but_car]\n",
    "    num_cols = [col for col in dataframe.columns if dataframe[col].dtypes != \"O\"]\n",
    "    num_cols = [col for col in num_cols if col not in num_but_cat]\n",
    "\n",
    "    print(f\"Observations: {dataframe.shape[0]}\")\n",
    "    print(f\"Variables: {dataframe.shape[1]}\")\n",
    "    print(f'cat_cols: {len(cat_cols)}')\n",
    "    print(f'num_cols: {len(num_cols)}')\n",
    "    print(f'cat_but_car: {len(cat_but_car)}')\n",
    "    print(f'num_but_cat: {len(num_but_cat)}')\n",
    "\n",
    "    return cat_cols, num_cols, cat_but_car\n",
    "\n",
    "# Get the column names\n",
    "cat_cols, num_cols, cat_but_car = grab_col_names(df)"
   ],
   "metadata": {
    "collapsed": false,
    "ExecuteTime": {
     "end_time": "2024-08-31T17:55:17.261952Z",
     "start_time": "2024-08-31T17:55:17.244842Z"
    }
   },
   "id": "58a46e08fb8d4e92"
  },
  {
   "cell_type": "code",
   "execution_count": 49,
   "outputs": [
    {
     "name": "stdout",
     "output_type": "stream",
     "text": [
      "<class 'pandas.core.frame.DataFrame'>\n",
      "RangeIndex: 7043 entries, 0 to 7042\n",
      "Data columns (total 20 columns):\n",
      " #   Column            Non-Null Count  Dtype  \n",
      "---  ------            --------------  -----  \n",
      " 0   gender            7043 non-null   object \n",
      " 1   SeniorCitizen     7043 non-null   int64  \n",
      " 2   Partner           7043 non-null   object \n",
      " 3   Dependents        7043 non-null   object \n",
      " 4   tenure            7043 non-null   int64  \n",
      " 5   PhoneService      7043 non-null   object \n",
      " 6   MultipleLines     7043 non-null   object \n",
      " 7   InternetService   7043 non-null   object \n",
      " 8   OnlineSecurity    7043 non-null   object \n",
      " 9   OnlineBackup      7043 non-null   object \n",
      " 10  DeviceProtection  7043 non-null   object \n",
      " 11  TechSupport       7043 non-null   object \n",
      " 12  StreamingTV       7043 non-null   object \n",
      " 13  StreamingMovies   7043 non-null   object \n",
      " 14  Contract          7043 non-null   object \n",
      " 15  PaperlessBilling  7043 non-null   object \n",
      " 16  PaymentMethod     7043 non-null   object \n",
      " 17  MonthlyCharges    7043 non-null   float64\n",
      " 18  TotalCharges      7043 non-null   object \n",
      " 19  Churn             7043 non-null   object \n",
      "dtypes: float64(1), int64(2), object(17)\n",
      "memory usage: 1.1+ MB\n"
     ]
    }
   ],
   "source": [
    "# Check the data types and missing values\n",
    "df.info()"
   ],
   "metadata": {
    "collapsed": false,
    "ExecuteTime": {
     "end_time": "2024-08-31T17:55:18.492391Z",
     "start_time": "2024-08-31T17:55:18.488666Z"
    }
   },
   "id": "eb0441805cf1b84d"
  },
  {
   "cell_type": "code",
   "execution_count": 50,
   "outputs": [
    {
     "name": "stdout",
     "output_type": "stream",
     "text": [
      "Observations: 7043\n",
      "Variables: 20\n",
      "cat_cols: 17\n",
      "num_cols: 3\n",
      "cat_but_car: 0\n",
      "num_but_cat: 1\n"
     ]
    }
   ],
   "source": [
    "# Convert 'TotalCharges' to numeric, coercing errors to NaN\n",
    "df[\"TotalCharges\"] = pd.to_numeric(df[\"TotalCharges\"], errors='coerce')\n",
    "\n",
    "# Recheck the column names\n",
    "cat_cols, num_cols, cat_but_car = grab_col_names(df)"
   ],
   "metadata": {
    "collapsed": false,
    "ExecuteTime": {
     "end_time": "2024-08-31T17:55:19.437160Z",
     "start_time": "2024-08-31T17:55:19.420587Z"
    }
   },
   "id": "282e4fe09ae431e1"
  },
  {
   "cell_type": "code",
   "execution_count": 51,
   "outputs": [
    {
     "name": "stdout",
     "output_type": "stream",
     "text": [
      "<class 'pandas.core.frame.DataFrame'>\n",
      "RangeIndex: 7043 entries, 0 to 7042\n",
      "Data columns (total 20 columns):\n",
      " #   Column            Non-Null Count  Dtype  \n",
      "---  ------            --------------  -----  \n",
      " 0   gender            7043 non-null   object \n",
      " 1   SeniorCitizen     7043 non-null   int64  \n",
      " 2   Partner           7043 non-null   object \n",
      " 3   Dependents        7043 non-null   object \n",
      " 4   tenure            7043 non-null   int64  \n",
      " 5   PhoneService      7043 non-null   object \n",
      " 6   MultipleLines     7043 non-null   object \n",
      " 7   InternetService   7043 non-null   object \n",
      " 8   OnlineSecurity    7043 non-null   object \n",
      " 9   OnlineBackup      7043 non-null   object \n",
      " 10  DeviceProtection  7043 non-null   object \n",
      " 11  TechSupport       7043 non-null   object \n",
      " 12  StreamingTV       7043 non-null   object \n",
      " 13  StreamingMovies   7043 non-null   object \n",
      " 14  Contract          7043 non-null   object \n",
      " 15  PaperlessBilling  7043 non-null   object \n",
      " 16  PaymentMethod     7043 non-null   object \n",
      " 17  MonthlyCharges    7043 non-null   float64\n",
      " 18  TotalCharges      7032 non-null   float64\n",
      " 19  Churn             7043 non-null   int64  \n",
      "dtypes: float64(2), int64(3), object(15)\n",
      "memory usage: 1.1+ MB\n"
     ]
    }
   ],
   "source": [
    "# Convert the 'Churn' column to binary (1 for Yes, 0 for No)\n",
    "df[\"Churn\"] = df[\"Churn\"].apply(lambda x: 1 if x == \"Yes\" else 0)\n",
    "df.info()"
   ],
   "metadata": {
    "collapsed": false,
    "ExecuteTime": {
     "end_time": "2024-08-31T17:55:20.495567Z",
     "start_time": "2024-08-31T17:55:20.484025Z"
    }
   },
   "id": "90096bc514e8d66d"
  },
  {
   "cell_type": "code",
   "execution_count": 52,
   "outputs": [
    {
     "name": "stdout",
     "output_type": "stream",
     "text": [
      "        gender  Ratio\n",
      "gender               \n",
      "Male      3555 50.476\n",
      "Female    3488 49.524\n",
      "##########################################\n",
      "         Partner  Ratio\n",
      "Partner                \n",
      "No          3641 51.697\n",
      "Yes         3402 48.303\n",
      "##########################################\n",
      "            Dependents  Ratio\n",
      "Dependents                   \n",
      "No                4933 70.041\n",
      "Yes               2110 29.959\n",
      "##########################################\n",
      "              PhoneService  Ratio\n",
      "PhoneService                     \n",
      "Yes                   6361 90.317\n",
      "No                     682  9.683\n",
      "##########################################\n",
      "                  MultipleLines  Ratio\n",
      "MultipleLines                         \n",
      "No                         3390 48.133\n",
      "Yes                        2971 42.184\n",
      "No phone service            682  9.683\n",
      "##########################################\n",
      "                 InternetService  Ratio\n",
      "InternetService                        \n",
      "Fiber optic                 3096 43.959\n",
      "DSL                         2421 34.375\n",
      "No                          1526 21.667\n",
      "##########################################\n",
      "                     OnlineSecurity  Ratio\n",
      "OnlineSecurity                            \n",
      "No                             3498 49.666\n",
      "Yes                            2019 28.667\n",
      "No internet service            1526 21.667\n",
      "##########################################\n",
      "                     OnlineBackup  Ratio\n",
      "OnlineBackup                            \n",
      "No                           3088 43.845\n",
      "Yes                          2429 34.488\n",
      "No internet service          1526 21.667\n",
      "##########################################\n",
      "                     DeviceProtection  Ratio\n",
      "DeviceProtection                            \n",
      "No                               3095 43.944\n",
      "Yes                              2422 34.389\n",
      "No internet service              1526 21.667\n",
      "##########################################\n",
      "                     TechSupport  Ratio\n",
      "TechSupport                            \n",
      "No                          3473 49.311\n",
      "Yes                         2044 29.022\n",
      "No internet service         1526 21.667\n",
      "##########################################\n",
      "                     StreamingTV  Ratio\n",
      "StreamingTV                            \n",
      "No                          2810 39.898\n",
      "Yes                         2707 38.435\n",
      "No internet service         1526 21.667\n",
      "##########################################\n",
      "                     StreamingMovies  Ratio\n",
      "StreamingMovies                            \n",
      "No                              2785 39.543\n",
      "Yes                             2732 38.790\n",
      "No internet service             1526 21.667\n",
      "##########################################\n",
      "                Contract  Ratio\n",
      "Contract                       \n",
      "Month-to-month      3875 55.019\n",
      "Two year            1695 24.066\n",
      "One year            1473 20.914\n",
      "##########################################\n",
      "                  PaperlessBilling  Ratio\n",
      "PaperlessBilling                         \n",
      "Yes                           4171 59.222\n",
      "No                            2872 40.778\n",
      "##########################################\n",
      "                           PaymentMethod  Ratio\n",
      "PaymentMethod                                  \n",
      "Electronic check                    2365 33.579\n",
      "Mailed check                        1612 22.888\n",
      "Bank transfer (automatic)           1544 21.922\n",
      "Credit card (automatic)             1522 21.610\n",
      "##########################################\n",
      "       Churn  Ratio\n",
      "Churn              \n",
      "0       5174 73.463\n",
      "1       1869 26.537\n",
      "##########################################\n",
      "               SeniorCitizen  Ratio\n",
      "SeniorCitizen                      \n",
      "0                       5901 83.785\n",
      "1                       1142 16.215\n",
      "##########################################\n"
     ]
    }
   ],
   "source": [
    "# Function to summarize categorical columns\n",
    "def cat_summary(dataframe, col_name, plot=False):\n",
    "    print(pd.DataFrame({col_name: dataframe[col_name].value_counts(),\n",
    "                        \"Ratio\": 100 * dataframe[col_name].value_counts() / len(dataframe)}))\n",
    "    print(\"##########################################\")\n",
    "    if plot:\n",
    "        sns.countplot(x=dataframe[col_name], data=dataframe)\n",
    "        plt.show()\n",
    "\n",
    "# Display summaries for all categorical columns\n",
    "for col in cat_cols:\n",
    "    cat_summary(df, col)"
   ],
   "metadata": {
    "collapsed": false,
    "ExecuteTime": {
     "end_time": "2024-08-31T17:55:22.065739Z",
     "start_time": "2024-08-31T17:55:22.057258Z"
    }
   },
   "id": "83273e51444639a5"
  },
  {
   "cell_type": "code",
   "execution_count": 53,
   "outputs": [
    {
     "name": "stdout",
     "output_type": "stream",
     "text": [
      "count   7043.000\n",
      "mean      32.371\n",
      "std       24.559\n",
      "min        0.000\n",
      "5%         1.000\n",
      "10%        2.000\n",
      "20%        6.000\n",
      "30%       12.000\n",
      "40%       20.000\n",
      "50%       29.000\n",
      "60%       40.000\n",
      "70%       50.000\n",
      "80%       60.000\n",
      "90%       69.000\n",
      "95%       72.000\n",
      "99%       72.000\n",
      "max       72.000\n",
      "Name: tenure, dtype: float64\n",
      "count   7043.000\n",
      "mean      64.762\n",
      "std       30.090\n",
      "min       18.250\n",
      "5%        19.650\n",
      "10%       20.050\n",
      "20%       25.050\n",
      "30%       45.850\n",
      "40%       58.830\n",
      "50%       70.350\n",
      "60%       79.100\n",
      "70%       85.500\n",
      "80%       94.250\n",
      "90%      102.600\n",
      "95%      107.400\n",
      "99%      114.729\n",
      "max      118.750\n",
      "Name: MonthlyCharges, dtype: float64\n",
      "count   7032.000\n",
      "mean    2283.300\n",
      "std     2266.771\n",
      "min       18.800\n",
      "5%        49.605\n",
      "10%       84.600\n",
      "20%      267.070\n",
      "30%      551.995\n",
      "40%      944.170\n",
      "50%     1397.475\n",
      "60%     2048.950\n",
      "70%     3141.130\n",
      "80%     4475.410\n",
      "90%     5976.640\n",
      "95%     6923.590\n",
      "99%     8039.883\n",
      "max     8684.800\n",
      "Name: TotalCharges, dtype: float64\n"
     ]
    }
   ],
   "source": [
    "# Function to summarize numerical columns\n",
    "def num_summary(dataframe, numerical_col, plot=False):\n",
    "    quantiles = [0.05, 0.10, 0.20, 0.30, 0.40, 0.50, 0.60, 0.70, 0.80, 0.90, 0.95, 0.99]\n",
    "    print(dataframe[numerical_col].describe(quantiles).T)\n",
    "\n",
    "    if plot:\n",
    "        dataframe[numerical_col].hist(bins=20)\n",
    "        plt.xlabel(numerical_col)\n",
    "        plt.title(numerical_col)\n",
    "        plt.show()\n",
    "\n",
    "# Display summaries for all numerical columns\n",
    "for col in num_cols:\n",
    "    num_summary(df, col)"
   ],
   "metadata": {
    "collapsed": false,
    "ExecuteTime": {
     "end_time": "2024-08-31T17:55:23.233754Z",
     "start_time": "2024-08-31T17:55:23.225589Z"
    }
   },
   "id": "9c154a3c078bfab2"
  },
  {
   "cell_type": "code",
   "execution_count": 14,
   "outputs": [
    {
     "name": "stdout",
     "output_type": "stream",
     "text": [
      "gender\n",
      "        TARGET_MEAN  Count  Ratio\n",
      "gender                           \n",
      "Female        0.269   3488 49.524\n",
      "Male          0.262   3555 50.476\n",
      "\n",
      "\n",
      "Partner\n",
      "         TARGET_MEAN  Count  Ratio\n",
      "Partner                           \n",
      "No             0.330   3641 51.697\n",
      "Yes            0.197   3402 48.303\n",
      "\n",
      "\n",
      "Dependents\n",
      "            TARGET_MEAN  Count  Ratio\n",
      "Dependents                           \n",
      "No                0.313   4933 70.041\n",
      "Yes               0.155   2110 29.959\n",
      "\n",
      "\n",
      "PhoneService\n",
      "              TARGET_MEAN  Count  Ratio\n",
      "PhoneService                           \n",
      "No                  0.249    682  9.683\n",
      "Yes                 0.267   6361 90.317\n",
      "\n",
      "\n",
      "MultipleLines\n",
      "                  TARGET_MEAN  Count  Ratio\n",
      "MultipleLines                              \n",
      "No                      0.250   3390 48.133\n",
      "No phone service        0.249    682  9.683\n",
      "Yes                     0.286   2971 42.184\n",
      "\n",
      "\n",
      "InternetService\n",
      "                 TARGET_MEAN  Count  Ratio\n",
      "InternetService                           \n",
      "DSL                    0.190   2421 34.375\n",
      "Fiber optic            0.419   3096 43.959\n",
      "No                     0.074   1526 21.667\n",
      "\n",
      "\n",
      "OnlineSecurity\n",
      "                     TARGET_MEAN  Count  Ratio\n",
      "OnlineSecurity                                \n",
      "No                         0.418   3498 49.666\n",
      "No internet service        0.074   1526 21.667\n",
      "Yes                        0.146   2019 28.667\n",
      "\n",
      "\n",
      "OnlineBackup\n",
      "                     TARGET_MEAN  Count  Ratio\n",
      "OnlineBackup                                  \n",
      "No                         0.399   3088 43.845\n",
      "No internet service        0.074   1526 21.667\n",
      "Yes                        0.215   2429 34.488\n",
      "\n",
      "\n",
      "DeviceProtection\n",
      "                     TARGET_MEAN  Count  Ratio\n",
      "DeviceProtection                              \n",
      "No                         0.391   3095 43.944\n",
      "No internet service        0.074   1526 21.667\n",
      "Yes                        0.225   2422 34.389\n",
      "\n",
      "\n",
      "TechSupport\n",
      "                     TARGET_MEAN  Count  Ratio\n",
      "TechSupport                                   \n",
      "No                         0.416   3473 49.311\n",
      "No internet service        0.074   1526 21.667\n",
      "Yes                        0.152   2044 29.022\n",
      "\n",
      "\n",
      "StreamingTV\n",
      "                     TARGET_MEAN  Count  Ratio\n",
      "StreamingTV                                   \n",
      "No                         0.335   2810 39.898\n",
      "No internet service        0.074   1526 21.667\n",
      "Yes                        0.301   2707 38.435\n",
      "\n",
      "\n",
      "StreamingMovies\n",
      "                     TARGET_MEAN  Count  Ratio\n",
      "StreamingMovies                               \n",
      "No                         0.337   2785 39.543\n",
      "No internet service        0.074   1526 21.667\n",
      "Yes                        0.299   2732 38.790\n",
      "\n",
      "\n",
      "Contract\n",
      "                TARGET_MEAN  Count  Ratio\n",
      "Contract                                 \n",
      "Month-to-month        0.427   3875 55.019\n",
      "One year              0.113   1473 20.914\n",
      "Two year              0.028   1695 24.066\n",
      "\n",
      "\n",
      "PaperlessBilling\n",
      "                  TARGET_MEAN  Count  Ratio\n",
      "PaperlessBilling                           \n",
      "No                      0.163   2872 40.778\n",
      "Yes                     0.336   4171 59.222\n",
      "\n",
      "\n",
      "PaymentMethod\n",
      "                           TARGET_MEAN  Count  Ratio\n",
      "PaymentMethod                                       \n",
      "Bank transfer (automatic)        0.167   1544 21.922\n",
      "Credit card (automatic)          0.152   1522 21.610\n",
      "Electronic check                 0.453   2365 33.579\n",
      "Mailed check                     0.191   1612 22.888\n",
      "\n",
      "\n",
      "Churn\n",
      "       TARGET_MEAN  Count  Ratio\n",
      "Churn                           \n",
      "0            0.000   5174 73.463\n",
      "1            1.000   1869 26.537\n",
      "\n",
      "\n",
      "SeniorCitizen\n",
      "               TARGET_MEAN  Count  Ratio\n",
      "SeniorCitizen                           \n",
      "0                    0.236   5901 83.785\n",
      "1                    0.417   1142 16.215\n"
     ]
    }
   ],
   "source": [
    "# Function to summarize the target variable with respect to categorical columns\n",
    "def target_summary_with_cat(dataframe, target, categorical_col):\n",
    "    print(categorical_col)\n",
    "    print(pd.DataFrame({\"TARGET_MEAN\": dataframe.groupby(categorical_col)[target].mean(),\n",
    "                        \"Count\": dataframe[categorical_col].value_counts(),\n",
    "                        \"Ratio\": 100 * dataframe[categorical_col].value_counts() / len(dataframe)}), end=\"\\n\\n\\n\")\n",
    "\n",
    "# Display target summaries for all categorical columns\n",
    "for col in cat_cols:\n",
    "    target_summary_with_cat(df, \"Churn\", col)"
   ],
   "metadata": {
    "collapsed": false,
    "ExecuteTime": {
     "end_time": "2024-08-31T17:50:18.990582Z",
     "start_time": "2024-08-31T17:50:18.943989Z"
    }
   },
   "id": "7d18fbcd0ca5f481"
  },
  {
   "cell_type": "code",
   "execution_count": 54,
   "outputs": [
    {
     "data": {
      "text/plain": "<Figure size 1800x1300 with 2 Axes>",
      "image/png": "[encoded data removed]"
     },
     "metadata": {},
     "output_type": "display_data"
    }
   ],
   "source": [
    "# Calculate and plot the correlation matrix for numerical features\n",
    "correlation_matrix = df[num_cols].corr()\n",
    "f, ax = plt.subplots(figsize=[18, 13])\n",
    "sns.heatmap(correlation_matrix, annot=True, fmt=\".2f\", ax=ax, cmap=\"magma\")\n",
    "ax.set_title(\"Correlation Matrix\", fontsize=20)\n",
    "plt.show()"
   ],
   "metadata": {
    "collapsed": false,
    "ExecuteTime": {
     "end_time": "2024-08-31T17:55:25.867363Z",
     "start_time": "2024-08-31T17:55:25.678241Z"
    }
   },
   "id": "43c1ca680c9bb143"
  },
  {
   "cell_type": "code",
   "execution_count": 55,
   "outputs": [
    {
     "data": {
      "text/plain": "False"
     },
     "execution_count": 55,
     "metadata": {},
     "output_type": "execute_result"
    }
   ],
   "source": [
    "# Function to determine outlier thresholds\n",
    "def outlier_thresholds(dataframe, col_name, q1=0.25, q3=0.75):\n",
    "    quartile1 = dataframe[col_name].quantile(q1)\n",
    "    quartile3 = dataframe[col_name].quantile(q3)\n",
    "    interquantile_range = quartile3 - quartile1\n",
    "    up_limit = quartile3 + 1.5 * interquantile_range\n",
    "    low_limit = quartile1 - 1.5 * interquantile_range\n",
    "    return low_limit, up_limit\n",
    "\n",
    "# Function to check for outliers\n",
    "def check_outlier(dataframe, col_name):\n",
    "    low_limit, up_limit = outlier_thresholds(dataframe, col_name)\n",
    "    if dataframe[(dataframe[col_name] > up_limit) | (dataframe[col_name] < low_limit)].any(axis=None):\n",
    "        return True\n",
    "    else:\n",
    "        return False\n",
    "\n",
    "# Check for outliers in numerical columns\n",
    "check_outlier(df, num_cols)"
   ],
   "metadata": {
    "collapsed": false,
    "ExecuteTime": {
     "end_time": "2024-08-31T17:55:27.837341Z",
     "start_time": "2024-08-31T17:55:27.809467Z"
    }
   },
   "id": "b4d160a2d191c21a"
  },
  {
   "cell_type": "code",
   "execution_count": 56,
   "outputs": [
    {
     "data": {
      "text/plain": "gender               0\nSeniorCitizen        0\nPartner              0\nDependents           0\ntenure               0\nPhoneService         0\nMultipleLines        0\nInternetService      0\nOnlineSecurity       0\nOnlineBackup         0\nDeviceProtection     0\nTechSupport          0\nStreamingTV          0\nStreamingMovies      0\nContract             0\nPaperlessBilling     0\nPaymentMethod        0\nMonthlyCharges       0\nTotalCharges        11\nChurn                0\ndtype: int64"
     },
     "execution_count": 56,
     "metadata": {},
     "output_type": "execute_result"
    }
   ],
   "source": [
    "# Check for missing values\n",
    "df.isnull().any()\n",
    "df.isnull().sum()"
   ],
   "metadata": {
    "collapsed": false,
    "ExecuteTime": {
     "end_time": "2024-08-31T17:55:29.031175Z",
     "start_time": "2024-08-31T17:55:29.025955Z"
    }
   },
   "id": "42a1e503066f1e3d"
  },
  {
   "cell_type": "code",
   "execution_count": 57,
   "outputs": [
    {
     "name": "stdout",
     "output_type": "stream",
     "text": [
      "              n_miss  ratio\n",
      "TotalCharges      11  0.160\n"
     ]
    }
   ],
   "source": [
    "# Function to create a missing values table\n",
    "def missing_values_table(dataframe, na_name=False):\n",
    "    na_columns = [col for col in dataframe.columns if dataframe[col].isnull().sum() > 0]\n",
    "    n_miss = dataframe[na_columns].isnull().sum().sort_values(ascending=False)\n",
    "    ratio = (dataframe[na_columns].isnull().sum() / dataframe.shape[0] * 100).sort_values(ascending=False)\n",
    "    missing_df = pd.concat([n_miss, np.round(ratio, 2)], axis=1, keys=['n_miss', 'ratio'])\n",
    "    print(missing_df, end=\"\\n\")\n",
    "    if na_name:\n",
    "        return na_columns\n",
    "\n",
    "# Identify columns with missing values\n",
    "na_columns = missing_values_table(df, na_name=True)"
   ],
   "metadata": {
    "collapsed": false,
    "ExecuteTime": {
     "end_time": "2024-08-31T17:55:30.300329Z",
     "start_time": "2024-08-31T17:55:30.260628Z"
    }
   },
   "id": "1b1b4c584940ba56"
  },
  {
   "cell_type": "code",
   "execution_count": 58,
   "outputs": [],
   "source": [
    "# Split the dataset indices into training, validation, and test sets\n",
    "indices = np.arange(len(df))\n",
    "indices_train, indices_test = train_test_split(indices, test_size=0.2, random_state=0)\n",
    "indices_train, indices_val = train_test_split(indices_train, test_size=0.2, random_state=0)"
   ],
   "metadata": {
    "collapsed": false,
    "ExecuteTime": {
     "end_time": "2024-08-31T17:55:31.468589Z",
     "start_time": "2024-08-31T17:55:31.460909Z"
    }
   },
   "id": "b290233caf1e3b94"
  },
  {
   "cell_type": "code",
   "execution_count": 59,
   "outputs": [],
   "source": [
    "# Function to replace missing values with the mean from the training set\n",
    "def replace_missing_values_by_mean(df, var, train_ind):\n",
    "    var_train = df[var].iloc[train_ind]\n",
    "    var_train_mean = np.mean(var_train)\n",
    "    df[var].fillna(var_train_mean, inplace=True)\n",
    "\n",
    "replace_missing_values_by_mean(df, \"TotalCharges\", indices_train)"
   ],
   "metadata": {
    "collapsed": false,
    "ExecuteTime": {
     "end_time": "2024-08-31T17:55:32.044849Z",
     "start_time": "2024-08-31T17:55:32.040505Z"
    }
   },
   "id": "d7f731b8e4f306ac"
  },
  {
   "cell_type": "code",
   "execution_count": 60,
   "outputs": [
    {
     "data": {
      "text/plain": "gender              0\nSeniorCitizen       0\nPartner             0\nDependents          0\ntenure              0\nPhoneService        0\nMultipleLines       0\nInternetService     0\nOnlineSecurity      0\nOnlineBackup        0\nDeviceProtection    0\nTechSupport         0\nStreamingTV         0\nStreamingMovies     0\nContract            0\nPaperlessBilling    0\nPaymentMethod       0\nMonthlyCharges      0\nTotalCharges        0\nChurn               0\ndtype: int64"
     },
     "execution_count": 60,
     "metadata": {},
     "output_type": "execute_result"
    }
   ],
   "source": [
    "# Check for missing values after replacement\n",
    "df.isnull().sum()"
   ],
   "metadata": {
    "collapsed": false,
    "ExecuteTime": {
     "end_time": "2024-08-31T17:55:32.995560Z",
     "start_time": "2024-08-31T17:55:32.989080Z"
    }
   },
   "id": "7a35fa682ae4ee3d"
  },
  {
   "cell_type": "code",
   "execution_count": 61,
   "outputs": [],
   "source": [
    "# Function to standardize numerical columns\n",
    "def standardize(df, var, train_ind):\n",
    "    var_train = df[var].iloc[train_ind]\n",
    "    var_train_mean = np.mean(var_train)\n",
    "    var_train_std = np.std(var_train)\n",
    "    df[var] = (df[var] - var_train_mean) / var_train_std\n",
    "    return df[var]"
   ],
   "metadata": {
    "collapsed": false,
    "ExecuteTime": {
     "end_time": "2024-08-31T17:55:35.269309Z",
     "start_time": "2024-08-31T17:55:35.236320Z"
    }
   },
   "id": "c1409f0be4ff1113"
  },
  {
   "cell_type": "code",
   "execution_count": 62,
   "outputs": [],
   "source": [
    "# Feature engineering: create new features based on existing ones\n",
    "# Create a new feature indicating tenure as years\n",
    "df.loc[(df[\"tenure\"]>=0) & (df[\"tenure\"]<=12),\"NEW_TENURE_YEAR\"] = \"0-1 Year\"\n",
    "df.loc[(df[\"tenure\"]>12) & (df[\"tenure\"]<=24),\"NEW_TENURE_YEAR\"] = \"1-2 Year\"\n",
    "df.loc[(df[\"tenure\"]>24) & (df[\"tenure\"]<=36),\"NEW_TENURE_YEAR\"] = \"2-3 Year\"\n",
    "df.loc[(df[\"tenure\"]>36) & (df[\"tenure\"]<=48),\"NEW_TENURE_YEAR\"] = \"3-4 Year\"\n",
    "df.loc[(df[\"tenure\"]>48) & (df[\"tenure\"]<=60),\"NEW_TENURE_YEAR\"] = \"4-5 Year\"\n",
    "df.loc[(df[\"tenure\"]>60) & (df[\"tenure\"]<=72),\"NEW_TENURE_YEAR\"] = \"5-6 Year\""
   ],
   "metadata": {
    "collapsed": false,
    "ExecuteTime": {
     "end_time": "2024-08-31T17:55:36.445067Z",
     "start_time": "2024-08-31T17:55:36.438636Z"
    }
   },
   "id": "6d326b249a134ff4"
  },
  {
   "cell_type": "code",
   "execution_count": 63,
   "outputs": [],
   "source": [
    "# Create a new feature indicating if a customer has no protection plans\n",
    "df[\"NEW_noProt\"] = df.apply(lambda x: 1 if (x[\"OnlineBackup\"] != \"Yes\") or (x[\"DeviceProtection\"] != \"Yes\") or (x[\"TechSupport\"] != \"Yes\") else 0, axis=1)"
   ],
   "metadata": {
    "collapsed": false,
    "ExecuteTime": {
     "end_time": "2024-08-31T17:55:37.094557Z",
     "start_time": "2024-08-31T17:55:37.060686Z"
    }
   },
   "id": "b2481513d0923372"
  },
  {
   "cell_type": "code",
   "execution_count": 64,
   "outputs": [],
   "source": [
    "# Create a new feature for customer engagement based on contract length\n",
    "df[\"NEW_Engaged\"] = df[\"Contract\"].apply(lambda x: 1 if x in [\"One year\",\"Two year\"] else 0)"
   ],
   "metadata": {
    "collapsed": false,
    "ExecuteTime": {
     "end_time": "2024-08-31T17:55:38.172297Z",
     "start_time": "2024-08-31T17:55:38.169435Z"
    }
   },
   "id": "c45a832a7703ef97"
  },
  {
   "cell_type": "code",
   "execution_count": 65,
   "outputs": [],
   "source": [
    "# Create a new feature for automatic payment method\n",
    "df[\"NEW_FLAG_AutoPayment\"] = df[\"PaymentMethod\"].apply(lambda x: 1 if x in [\"Bank transfer (automatic)\", \"Credit card (automatic)\"] else 0)"
   ],
   "metadata": {
    "collapsed": false,
    "ExecuteTime": {
     "end_time": "2024-08-31T17:55:38.632851Z",
     "start_time": "2024-08-31T17:55:38.628069Z"
    }
   },
   "id": "d1499666f8e1df14"
  },
  {
   "cell_type": "code",
   "execution_count": 66,
   "outputs": [],
   "source": [
    "# Create a new feature indicating the total number of services subscribed\n",
    "df['NEW_TotalServices'] = (df[['PhoneService', 'InternetService', 'OnlineSecurity',\n",
    "                                       'OnlineBackup', 'DeviceProtection', 'TechSupport',\n",
    "                                       'StreamingTV', 'StreamingMovies']]== 'Yes').sum(axis=1)"
   ],
   "metadata": {
    "collapsed": false,
    "ExecuteTime": {
     "end_time": "2024-08-31T17:55:39.295391Z",
     "start_time": "2024-08-31T17:55:39.289885Z"
    }
   },
   "id": "ce3feee224ea1a49"
  },
  {
   "cell_type": "code",
   "execution_count": 67,
   "outputs": [],
   "source": [
    "# Create a new feature indicating if the customer uses any streaming service\n",
    "df[\"NEW_FLAG_ANY_STREAMING\"] = df.apply(lambda x: 1 if (x[\"StreamingTV\"] == \"Yes\") or (x[\"StreamingMovies\"] == \"Yes\") else 0, axis=1)"
   ],
   "metadata": {
    "collapsed": false,
    "ExecuteTime": {
     "end_time": "2024-08-31T17:55:40.169789Z",
     "start_time": "2024-08-31T17:55:40.134574Z"
    }
   },
   "id": "512cc6c8ab893a5e"
  },
  {
   "cell_type": "code",
   "execution_count": 68,
   "outputs": [],
   "source": [
    "# Create a new feature indicating if a young customer is not engaged\n",
    "df[\"NEW_Young_Not_Engaged\"] = df.apply(lambda x: 1 if (x[\"NEW_Engaged\"] == 0) and (x[\"SeniorCitizen\"] == 0) else 0, axis=1)"
   ],
   "metadata": {
    "collapsed": false,
    "ExecuteTime": {
     "end_time": "2024-08-31T17:55:41.583585Z",
     "start_time": "2024-08-31T17:55:41.550806Z"
    }
   },
   "id": "91744174827aca5e"
  },
  {
   "cell_type": "code",
   "execution_count": 69,
   "outputs": [
    {
     "name": "stdout",
     "output_type": "stream",
     "text": [
      "   gender  SeniorCitizen Partner Dependents  tenure PhoneService     MultipleLines  \\\n",
      "0  Female              0     Yes         No       1           No  No phone service   \n",
      "1    Male              0      No         No      34          Yes                No   \n",
      "2    Male              0      No         No       2          Yes                No   \n",
      "3    Male              0      No         No      45           No  No phone service   \n",
      "4  Female              0      No         No       2          Yes                No   \n",
      "\n",
      "  InternetService OnlineSecurity OnlineBackup DeviceProtection TechSupport StreamingTV  \\\n",
      "0             DSL             No          Yes               No          No          No   \n",
      "1             DSL            Yes           No              Yes          No          No   \n",
      "2             DSL            Yes          Yes               No          No          No   \n",
      "3             DSL            Yes           No              Yes         Yes          No   \n",
      "4     Fiber optic             No           No               No          No          No   \n",
      "\n",
      "  StreamingMovies        Contract PaperlessBilling              PaymentMethod  MonthlyCharges  \\\n",
      "0              No  Month-to-month              Yes           Electronic check          29.850   \n",
      "1              No        One year               No               Mailed check          56.950   \n",
      "2              No  Month-to-month              Yes               Mailed check          53.850   \n",
      "3              No        One year               No  Bank transfer (automatic)          42.300   \n",
      "4              No  Month-to-month              Yes           Electronic check          70.700   \n",
      "\n",
      "   TotalCharges  Churn NEW_TENURE_YEAR  NEW_noProt  NEW_Engaged  NEW_FLAG_AutoPayment  \\\n",
      "0        29.850      0        0-1 Year           1            0                     0   \n",
      "1      1889.500      0        2-3 Year           1            1                     0   \n",
      "2       108.150      1        0-1 Year           1            0                     0   \n",
      "3      1840.750      0        3-4 Year           1            1                     1   \n",
      "4       151.650      1        0-1 Year           1            0                     0   \n",
      "\n",
      "   NEW_TotalServices  NEW_FLAG_ANY_STREAMING  NEW_Young_Not_Engaged  \n",
      "0                  1                       0                      1  \n",
      "1                  3                       0                      0  \n",
      "2                  3                       0                      1  \n",
      "3                  3                       0                      0  \n",
      "4                  1                       0                      1  \n",
      "(7043, 27)\n"
     ]
    }
   ],
   "source": [
    "# Display the updated DataFrame\n",
    "print(df.head())\n",
    "print(df.shape)"
   ],
   "metadata": {
    "collapsed": false,
    "ExecuteTime": {
     "end_time": "2024-08-31T17:55:42.196582Z",
     "start_time": "2024-08-31T17:55:42.181426Z"
    }
   },
   "id": "5d6541daf6cf2edf"
  },
  {
   "cell_type": "code",
   "execution_count": 70,
   "outputs": [
    {
     "name": "stdout",
     "output_type": "stream",
     "text": [
      "Observations: 7043\n",
      "Variables: 27\n",
      "cat_cols: 24\n",
      "num_cols: 3\n",
      "cat_but_car: 0\n",
      "num_but_cat: 8\n"
     ]
    }
   ],
   "source": [
    "# Recalculate column names after feature engineering\n",
    "cat_cols, num_cols, cat_but_car = grab_col_names(df)"
   ],
   "metadata": {
    "collapsed": false,
    "ExecuteTime": {
     "end_time": "2024-08-31T17:55:44.738635Z",
     "start_time": "2024-08-31T17:55:44.717956Z"
    }
   },
   "id": "ca379466cd1909c9"
  },
  {
   "cell_type": "code",
   "execution_count": 71,
   "outputs": [],
   "source": [
    "# Function to encode binary categorical columns using label encoding\n",
    "def label_encoder(dataframe, binary_col):\n",
    "    labelencoder = LabelEncoder()\n",
    "    dataframe[binary_col] = labelencoder.fit_transform(dataframe[binary_col])\n",
    "    return dataframe"
   ],
   "metadata": {
    "collapsed": false,
    "ExecuteTime": {
     "end_time": "2024-08-31T17:55:45.748746Z",
     "start_time": "2024-08-31T17:55:45.743298Z"
    }
   },
   "id": "cb92738ea6313196"
  },
  {
   "cell_type": "code",
   "execution_count": 72,
   "outputs": [
    {
     "name": "stdout",
     "output_type": "stream",
     "text": [
      "['gender', 'Partner', 'Dependents', 'PhoneService', 'PaperlessBilling']\n"
     ]
    }
   ],
   "source": [
    "# Identify binary categorical columns\n",
    "binary_cols = [col for col in df.columns if df[col].dtypes == \"O\" and df[col].nunique() == 2]\n",
    "print(binary_cols)"
   ],
   "metadata": {
    "collapsed": false,
    "ExecuteTime": {
     "end_time": "2024-08-31T17:55:46.454377Z",
     "start_time": "2024-08-31T17:55:46.444197Z"
    }
   },
   "id": "99b1fdd4463a1675"
  },
  {
   "cell_type": "code",
   "execution_count": 73,
   "outputs": [],
   "source": [
    "# Apply label encoding to binary columns\n",
    "for col in binary_cols:\n",
    "    df = label_encoder(df, col)"
   ],
   "metadata": {
    "collapsed": false,
    "ExecuteTime": {
     "end_time": "2024-08-31T17:55:47.678362Z",
     "start_time": "2024-08-31T17:55:47.673860Z"
    }
   },
   "id": "5fd558e5d396cdbf"
  },
  {
   "cell_type": "code",
   "execution_count": 74,
   "outputs": [
    {
     "name": "stdout",
     "output_type": "stream",
     "text": [
      "['MultipleLines', 'InternetService', 'OnlineSecurity', 'OnlineBackup', 'DeviceProtection', 'TechSupport', 'StreamingTV', 'StreamingMovies', 'Contract', 'PaymentMethod', 'NEW_TENURE_YEAR', 'SeniorCitizen', 'NEW_noProt', 'NEW_Engaged', 'NEW_FLAG_AutoPayment', 'NEW_FLAG_ANY_STREAMING', 'NEW_Young_Not_Engaged']\n"
     ]
    }
   ],
   "source": [
    "# Update categorical column list to exclude binary columns\n",
    "cat_cols = [col for col in cat_cols if col not in binary_cols and col not in [\"Churn\", \"NEW_TotalServices\"]]\n",
    "print(cat_cols)"
   ],
   "metadata": {
    "collapsed": false,
    "ExecuteTime": {
     "end_time": "2024-08-31T17:55:48.535915Z",
     "start_time": "2024-08-31T17:55:48.530898Z"
    }
   },
   "id": "d82a49f47be869e8"
  },
  {
   "cell_type": "code",
   "execution_count": 75,
   "outputs": [
    {
     "data": {
      "text/plain": "   gender  Partner  Dependents  tenure  PhoneService  PaperlessBilling  MonthlyCharges  \\\n0       0        1           0       1             0                 1          29.850   \n1       1        0           0      34             1                 0          56.950   \n2       1        0           0       2             1                 1          53.850   \n3       1        0           0      45             0                 0          42.300   \n4       0        0           0       2             1                 1          70.700   \n\n   TotalCharges  Churn  NEW_TotalServices  MultipleLines_No phone service  MultipleLines_Yes  \\\n0        29.850      0                  1                            True              False   \n1      1889.500      0                  3                           False              False   \n2       108.150      1                  3                           False              False   \n3      1840.750      0                  3                            True              False   \n4       151.650      1                  1                           False              False   \n\n   InternetService_Fiber optic  InternetService_No  OnlineSecurity_No internet service  \\\n0                        False               False                               False   \n1                        False               False                               False   \n2                        False               False                               False   \n3                        False               False                               False   \n4                         True               False                               False   \n\n   OnlineSecurity_Yes  OnlineBackup_No internet service  OnlineBackup_Yes  \\\n0               False                             False              True   \n1                True                             False             False   \n2                True                             False              True   \n3                True                             False             False   \n4               False                             False             False   \n\n   DeviceProtection_No internet service  DeviceProtection_Yes  TechSupport_No internet service  \\\n0                                 False                 False                            False   \n1                                 False                  True                            False   \n2                                 False                 False                            False   \n3                                 False                  True                            False   \n4                                 False                 False                            False   \n\n   TechSupport_Yes  StreamingTV_No internet service  StreamingTV_Yes  \\\n0            False                            False            False   \n1            False                            False            False   \n2            False                            False            False   \n3             True                            False            False   \n4            False                            False            False   \n\n   StreamingMovies_No internet service  StreamingMovies_Yes  Contract_One year  Contract_Two year  \\\n0                                False                False              False              False   \n1                                False                False               True              False   \n2                                False                False              False              False   \n3                                False                False               True              False   \n4                                False                False              False              False   \n\n   PaymentMethod_Credit card (automatic)  PaymentMethod_Electronic check  \\\n0                                  False                            True   \n1                                  False                           False   \n2                                  False                           False   \n3                                  False                           False   \n4                                  False                            True   \n\n   PaymentMethod_Mailed check  NEW_TENURE_YEAR_1-2 Year  NEW_TENURE_YEAR_2-3 Year  \\\n0                       False                     False                     False   \n1                        True                     False                      True   \n2                        True                     False                     False   \n3                       False                     False                     False   \n4                       False                     False                     False   \n\n   NEW_TENURE_YEAR_3-4 Year  NEW_TENURE_YEAR_4-5 Year  NEW_TENURE_YEAR_5-6 Year  SeniorCitizen_1  \\\n0                     False                     False                     False            False   \n1                     False                     False                     False            False   \n2                     False                     False                     False            False   \n3                      True                     False                     False            False   \n4                     False                     False                     False            False   \n\n   NEW_noProt_1  NEW_Engaged_1  NEW_FLAG_AutoPayment_1  NEW_FLAG_ANY_STREAMING_1  \\\n0          True          False                   False                     False   \n1          True           True                   False                     False   \n2          True          False                   False                     False   \n3          True           True                    True                     False   \n4          True          False                   False                     False   \n\n   NEW_Young_Not_Engaged_1  \n0                     True  \n1                    False  \n2                     True  \n3                    False  \n4                     True  ",
      "text/html": "<div>\n<style scoped>\n    .dataframe tbody tr th:only-of-type {\n        vertical-align: middle;\n    }\n\n    .dataframe tbody tr th {\n        vertical-align: top;\n    }\n\n    .dataframe thead th {\n        text-align: right;\n    }\n</style>\n<table border=\"1\" class=\"dataframe\">\n  <thead>\n    <tr style=\"text-align: right;\">\n      <th></th>\n      <th>gender</th>\n      <th>Partner</th>\n      <th>Dependents</th>\n      <th>tenure</th>\n      <th>PhoneService</th>\n      <th>PaperlessBilling</th>\n      <th>MonthlyCharges</th>\n      <th>TotalCharges</th>\n      <th>Churn</th>\n      <th>NEW_TotalServices</th>\n      <th>MultipleLines_No phone service</th>\n      <th>MultipleLines_Yes</th>\n      <th>InternetService_Fiber optic</th>\n      <th>InternetService_No</th>\n      <th>OnlineSecurity_No internet service</th>\n      <th>OnlineSecurity_Yes</th>\n      <th>OnlineBackup_No internet service</th>\n      <th>OnlineBackup_Yes</th>\n      <th>DeviceProtection_No internet service</th>\n      <th>DeviceProtection_Yes</th>\n      <th>TechSupport_No internet service</th>\n      <th>TechSupport_Yes</th>\n      <th>StreamingTV_No internet service</th>\n      <th>StreamingTV_Yes</th>\n      <th>StreamingMovies_No internet service</th>\n      <th>StreamingMovies_Yes</th>\n      <th>Contract_One year</th>\n      <th>Contract_Two year</th>\n      <th>PaymentMethod_Credit card (automatic)</th>\n      <th>PaymentMethod_Electronic check</th>\n      <th>PaymentMethod_Mailed check</th>\n      <th>NEW_TENURE_YEAR_1-2 Year</th>\n      <th>NEW_TENURE_YEAR_2-3 Year</th>\n      <th>NEW_TENURE_YEAR_3-4 Year</th>\n      <th>NEW_TENURE_YEAR_4-5 Year</th>\n      <th>NEW_TENURE_YEAR_5-6 Year</th>\n      <th>SeniorCitizen_1</th>\n      <th>NEW_noProt_1</th>\n      <th>NEW_Engaged_1</th>\n      <th>NEW_FLAG_AutoPayment_1</th>\n      <th>NEW_FLAG_ANY_STREAMING_1</th>\n      <th>NEW_Young_Not_Engaged_1</th>\n    </tr>\n  </thead>\n  <tbody>\n    <tr>\n      <th>0</th>\n      <td>0</td>\n      <td>1</td>\n      <td>0</td>\n      <td>1</td>\n      <td>0</td>\n      <td>1</td>\n      <td>29.850</td>\n      <td>29.850</td>\n      <td>0</td>\n      <td>1</td>\n      <td>True</td>\n      <td>False</td>\n      <td>False</td>\n      <td>False</td>\n      <td>False</td>\n      <td>False</td>\n      <td>False</td>\n      <td>True</td>\n      <td>False</td>\n      <td>False</td>\n      <td>False</td>\n      <td>False</td>\n      <td>False</td>\n      <td>False</td>\n      <td>False</td>\n      <td>False</td>\n      <td>False</td>\n      <td>False</td>\n      <td>False</td>\n      <td>True</td>\n      <td>False</td>\n      <td>False</td>\n      <td>False</td>\n      <td>False</td>\n      <td>False</td>\n      <td>False</td>\n      <td>False</td>\n      <td>True</td>\n      <td>False</td>\n      <td>False</td>\n      <td>False</td>\n      <td>True</td>\n    </tr>\n    <tr>\n      <th>1</th>\n      <td>1</td>\n      <td>0</td>\n      <td>0</td>\n      <td>34</td>\n      <td>1</td>\n      <td>0</td>\n      <td>56.950</td>\n      <td>1889.500</td>\n      <td>0</td>\n      <td>3</td>\n      <td>False</td>\n      <td>False</td>\n      <td>False</td>\n      <td>False</td>\n      <td>False</td>\n      <td>True</td>\n      <td>False</td>\n      <td>False</td>\n      <td>False</td>\n      <td>True</td>\n      <td>False</td>\n      <td>False</td>\n      <td>False</td>\n      <td>False</td>\n      <td>False</td>\n      <td>False</td>\n      <td>True</td>\n      <td>False</td>\n      <td>False</td>\n      <td>False</td>\n      <td>True</td>\n      <td>False</td>\n      <td>True</td>\n      <td>False</td>\n      <td>False</td>\n      <td>False</td>\n      <td>False</td>\n      <td>True</td>\n      <td>True</td>\n      <td>False</td>\n      <td>False</td>\n      <td>False</td>\n    </tr>\n    <tr>\n      <th>2</th>\n      <td>1</td>\n      <td>0</td>\n      <td>0</td>\n      <td>2</td>\n      <td>1</td>\n      <td>1</td>\n      <td>53.850</td>\n      <td>108.150</td>\n      <td>1</td>\n      <td>3</td>\n      <td>False</td>\n      <td>False</td>\n      <td>False</td>\n      <td>False</td>\n      <td>False</td>\n      <td>True</td>\n      <td>False</td>\n      <td>True</td>\n      <td>False</td>\n      <td>False</td>\n      <td>False</td>\n      <td>False</td>\n      <td>False</td>\n      <td>False</td>\n      <td>False</td>\n      <td>False</td>\n      <td>False</td>\n      <td>False</td>\n      <td>False</td>\n      <td>False</td>\n      <td>True</td>\n      <td>False</td>\n      <td>False</td>\n      <td>False</td>\n      <td>False</td>\n      <td>False</td>\n      <td>False</td>\n      <td>True</td>\n      <td>False</td>\n      <td>False</td>\n      <td>False</td>\n      <td>True</td>\n    </tr>\n    <tr>\n      <th>3</th>\n      <td>1</td>\n      <td>0</td>\n      <td>0</td>\n      <td>45</td>\n      <td>0</td>\n      <td>0</td>\n      <td>42.300</td>\n      <td>1840.750</td>\n      <td>0</td>\n      <td>3</td>\n      <td>True</td>\n      <td>False</td>\n      <td>False</td>\n      <td>False</td>\n      <td>False</td>\n      <td>True</td>\n      <td>False</td>\n      <td>False</td>\n      <td>False</td>\n      <td>True</td>\n      <td>False</td>\n      <td>True</td>\n      <td>False</td>\n      <td>False</td>\n      <td>False</td>\n      <td>False</td>\n      <td>True</td>\n      <td>False</td>\n      <td>False</td>\n      <td>False</td>\n      <td>False</td>\n      <td>False</td>\n      <td>False</td>\n      <td>True</td>\n      <td>False</td>\n      <td>False</td>\n      <td>False</td>\n      <td>True</td>\n      <td>True</td>\n      <td>True</td>\n      <td>False</td>\n      <td>False</td>\n    </tr>\n    <tr>\n      <th>4</th>\n      <td>0</td>\n      <td>0</td>\n      <td>0</td>\n      <td>2</td>\n      <td>1</td>\n      <td>1</td>\n      <td>70.700</td>\n      <td>151.650</td>\n      <td>1</td>\n      <td>1</td>\n      <td>False</td>\n      <td>False</td>\n      <td>True</td>\n      <td>False</td>\n      <td>False</td>\n      <td>False</td>\n      <td>False</td>\n      <td>False</td>\n      <td>False</td>\n      <td>False</td>\n      <td>False</td>\n      <td>False</td>\n      <td>False</td>\n      <td>False</td>\n      <td>False</td>\n      <td>False</td>\n      <td>False</td>\n      <td>False</td>\n      <td>False</td>\n      <td>True</td>\n      <td>False</td>\n      <td>False</td>\n      <td>False</td>\n      <td>False</td>\n      <td>False</td>\n      <td>False</td>\n      <td>False</td>\n      <td>True</td>\n      <td>False</td>\n      <td>False</td>\n      <td>False</td>\n      <td>True</td>\n    </tr>\n  </tbody>\n</table>\n</div>"
     },
     "execution_count": 75,
     "metadata": {},
     "output_type": "execute_result"
    }
   ],
   "source": [
    "# Function to perform one-hot encoding on categorical columns\n",
    "def one_hot_encoder(dataframe, categorical_cols, drop_first=False):\n",
    "    dataframe = pd.get_dummies(dataframe, columns=categorical_cols, drop_first=drop_first)\n",
    "    return dataframe\n",
    "\n",
    "# Apply one-hot encoding to the categorical columns\n",
    "df = one_hot_encoder(df, cat_cols, drop_first=True)\n",
    "\n",
    "# Display the DataFrame after one-hot encoding\n",
    "df.head()"
   ],
   "metadata": {
    "collapsed": false,
    "ExecuteTime": {
     "end_time": "2024-08-31T17:55:49.747048Z",
     "start_time": "2024-08-31T17:55:49.719048Z"
    }
   },
   "id": "2545a45cbc155cf3"
  },
  {
   "cell_type": "code",
   "execution_count": 76,
   "outputs": [],
   "source": [
    "# Standardize numerical columns\n",
    "for col in num_cols:\n",
    "    standardize(df, col, indices_train)"
   ],
   "metadata": {
    "collapsed": false,
    "ExecuteTime": {
     "end_time": "2024-08-31T17:55:51.304040Z",
     "start_time": "2024-08-31T17:55:51.271656Z"
    }
   },
   "id": "6745f16174a1d169"
  },
  {
   "cell_type": "code",
   "execution_count": 77,
   "outputs": [],
   "source": [
    "# Prepare features (X) and target variable (y)\n",
    "X = df.drop(\"Churn\", axis=1)  \n",
    "y = df[\"Churn\"]\n",
    "\n",
    "# Split data into training, validation, and test sets\n",
    "X_train, y_train = X.iloc[indices_train], y.iloc[indices_train]\n",
    "X_val, y_val = X.iloc[indices_val], y.iloc[indices_val]\n",
    "X_test, y_test = X.iloc[indices_test], y.iloc[indices_test]"
   ],
   "metadata": {
    "collapsed": false,
    "ExecuteTime": {
     "end_time": "2024-08-31T17:55:52.475855Z",
     "start_time": "2024-08-31T17:55:52.466760Z"
    }
   },
   "id": "e595efdcf152b67c"
  },
  {
   "cell_type": "code",
   "execution_count": 78,
   "outputs": [],
   "source": [
    "# Convert DataFrames to NumPy arrays for modeling\n",
    "X_train = X_train.to_numpy()\n",
    "X_val = X_val.to_numpy()\n",
    "X_test = X_test.to_numpy()"
   ],
   "metadata": {
    "collapsed": false,
    "ExecuteTime": {
     "end_time": "2024-08-31T17:55:56.363992Z",
     "start_time": "2024-08-31T17:55:56.327516Z"
    }
   },
   "id": "f65b04a34a9100bb"
  },
  {
   "cell_type": "code",
   "execution_count": 79,
   "outputs": [
    {
     "name": "stdout",
     "output_type": "stream",
     "text": [
      "LR\n",
      "roc_auc score: 0.8564\n",
      "f1 score: 0.5918\n",
      "precision score: 0.6667\n",
      "recall score: 0.5320\n",
      "accuracy score: 0.8066\n",
      "\n",
      "\n",
      "KNN\n",
      "roc_auc score: 0.7860\n",
      "f1 score: 0.5477\n",
      "precision score: 0.5762\n",
      "recall score: 0.5219\n",
      "accuracy score: 0.7728\n",
      "\n",
      "\n",
      "CART\n",
      "roc_auc score: 0.6818\n",
      "f1 score: 0.5307\n",
      "precision score: 0.5109\n",
      "recall score: 0.5522\n",
      "accuracy score: 0.7427\n",
      "\n",
      "\n",
      "RF\n",
      "roc_auc score: 0.8362\n",
      "f1 score: 0.5476\n",
      "precision score: 0.6468\n",
      "recall score: 0.4747\n",
      "accuracy score: 0.7933\n",
      "\n",
      "\n",
      "Adaboost\n",
      "roc_auc score: 0.8544\n",
      "f1 score: 0.5779\n",
      "precision score: 0.6638\n",
      "recall score: 0.5118\n",
      "accuracy score: 0.8030\n",
      "\n",
      "\n",
      "GBM\n",
      "roc_auc score: 0.8564\n",
      "f1 score: 0.5720\n",
      "precision score: 0.6537\n",
      "recall score: 0.5084\n",
      "accuracy score: 0.7995\n",
      "\n",
      "\n",
      "XGBoost\n",
      "roc_auc score: 0.8350\n",
      "f1 score: 0.5602\n",
      "precision score: 0.6340\n",
      "recall score: 0.5017\n",
      "accuracy score: 0.7924\n",
      "\n",
      "\n",
      "CatBoost\n",
      "roc_auc score: 0.8530\n",
      "f1 score: 0.5671\n",
      "precision score: 0.6466\n",
      "recall score: 0.5051\n",
      "accuracy score: 0.7968\n"
     ]
    }
   ],
   "source": [
    "# Define and evaluate multiple classification models\n",
    "models = [('LR', LogisticRegression(max_iter=1000)),\n",
    "          ('KNN', KNeighborsClassifier()),\n",
    "          (\"CART\", DecisionTreeClassifier()),\n",
    "          (\"RF\", RandomForestClassifier()),\n",
    "          ('Adaboost', AdaBoostClassifier()),\n",
    "          ('GBM', GradientBoostingClassifier()),\n",
    "          ('XGBoost', XGBClassifier(use_label_encoder=False, eval_metric='logloss')),\n",
    "          ('CatBoost', CatBoostClassifier(verbose=False))]\n",
    "\n",
    "# Evaluate each model on the validation set\n",
    "for name, model in models:\n",
    "    print(name)\n",
    "    model.fit(X_train, y_train)\n",
    "    y_pred = model.predict(X_val)\n",
    "    for score in [\"roc_auc\", \"f1\", \"precision\", \"recall\", \"accuracy\"]:\n",
    "        if score == \"roc_auc\":\n",
    "            score_value = roc_auc_score(y_val, model.predict_proba(X_val)[:, 1])\n",
    "        elif score == \"f1\":\n",
    "            score_value = f1_score(y_val, y_pred)\n",
    "        elif score == \"precision\":\n",
    "            score_value = precision_score(y_val, y_pred, zero_division=0)\n",
    "        elif score == \"recall\":\n",
    "            score_value = recall_score(y_val, y_pred)\n",
    "        else:  # accuracy\n",
    "            score_value = accuracy_score(y_val, y_pred)\n",
    "        print(f\"{score} score: {score_value:.4f}\")\n",
    "    print(\"\\n\")"
   ],
   "metadata": {
    "collapsed": false,
    "ExecuteTime": {
     "end_time": "2024-08-31T17:56:04.260435Z",
     "start_time": "2024-08-31T17:55:59.114063Z"
    }
   },
   "id": "97387995bcbcf893"
  },
  {
   "cell_type": "code",
   "execution_count": 80,
   "outputs": [
    {
     "name": "stdout",
     "output_type": "stream",
     "text": [
      "LogisticRegression(C=10, max_iter=1000, penalty='l1', solver='saga')\n"
     ]
    }
   ],
   "source": [
    "# Define the parameter grid for hyperparameter tuning\n",
    "param_grid = {\n",
    "    'C': [0.001, 0.01, 0.1, 1, 10, 100],  # Regularization strength\n",
    "    'penalty': ['l1', 'l2'],                # Type of regularization\n",
    "    'solver': ['liblinear', 'saga']        # Optimization algorithms\n",
    "}\n",
    "\n",
    "# Initialize Logistic Regression model\n",
    "lr = LogisticRegression(max_iter=1000)\n",
    "\n",
    "# Set up Grid Search for hyperparameter tuning\n",
    "grid_search = GridSearchCV(estimator=lr, param_grid=param_grid, scoring='roc_auc', cv=5, n_jobs=-1)\n",
    "\n",
    "# Fit Grid Search to find the best model\n",
    "grid_search.fit(X_train, y_train)\n",
    "\n",
    "# Retrieve and print the best model\n",
    "best_lr = grid_search.best_estimator_\n",
    "print(best_lr)"
   ],
   "metadata": {
    "collapsed": false,
    "ExecuteTime": {
     "end_time": "2024-08-31T17:56:23.772195Z",
     "start_time": "2024-08-31T17:56:13.137419Z"
    }
   },
   "id": "8042f5ad12fe5886"
  },
  {
   "cell_type": "code",
   "execution_count": 81,
   "outputs": [
    {
     "name": "stdout",
     "output_type": "stream",
     "text": [
      "Test Set:\n",
      "ROC AUC score: 0.8285\n",
      "F1 score: 0.5671\n",
      "Precision score: 0.6458\n",
      "Recall score: 0.5054\n"
     ]
    }
   ],
   "source": [
    "# Train the final Logistic Regression model with the best parameters\n",
    "logisticreg = LogisticRegression(\n",
    "    C=10,  \n",
    "    max_iter=1000,                \n",
    "    penalty='l1',\n",
    "    solver='saga'\n",
    ")\n",
    "\n",
    "logisticreg.fit(X_train, y_train)\n",
    "\n",
    "# Predict labels and probabilities on the test set\n",
    "y_test_pred = logisticreg.predict(X_test)\n",
    "y_test_proba = logisticreg.predict_proba(X_test)[:, 1]\n",
    "\n",
    "# Print evaluation metrics for the test set\n",
    "print(\"Test Set:\")\n",
    "print(f\"ROC AUC score: {roc_auc_score(y_test, y_test_proba):.4f}\")\n",
    "print(f\"F1 score: {f1_score(y_test, y_test_pred):.4f}\")\n",
    "print(f\"Precision score: {precision_score(y_test, y_test_pred, zero_division=0):.4f}\")\n",
    "print(f\"Recall score: {recall_score(y_test, y_test_pred):.4f}\")"
   ],
   "metadata": {
    "collapsed": false,
    "ExecuteTime": {
     "end_time": "2024-08-31T17:56:34.433127Z",
     "start_time": "2024-08-31T17:56:32.361223Z"
    }
   },
   "id": "57764ebb22fa7e32"
  },
  {
   "cell_type": "code",
   "execution_count": 82,
   "outputs": [
    {
     "data": {
      "text/plain": "<Figure size 640x480 with 1 Axes>",
      "image/png": "[encoded data removed]"
     },
     "metadata": {},
     "output_type": "display_data"
    }
   ],
   "source": [
    "# Plot ROC Curve\n",
    "fpr, tpr, _ = roc_curve(y_test, y_test_proba)\n",
    "roc_auc = auc(fpr, tpr)\n",
    "\n",
    "plt.figure()\n",
    "plt.plot(fpr, tpr, color='darkorange', lw=2, label='ROC curve (area = %0.2f)' % roc_auc)\n",
    "plt.plot([0, 1], [0, 1], color='navy', lw=2, linestyle='--')\n",
    "plt.xlim([0.0, 1.0])\n",
    "plt.ylim([0.0, 1.05])\n",
    "plt.xlabel('False Positive Rate')\n",
    "plt.ylabel('True Positive Rate')\n",
    "plt.title('Receiver Operating Characteristic (ROC)')\n",
    "plt.legend(loc='lower right')\n",
    "plt.show()"
   ],
   "metadata": {
    "collapsed": false,
    "ExecuteTime": {
     "end_time": "2024-08-31T17:56:55.688920Z",
     "start_time": "2024-08-31T17:56:37.039996Z"
    }
   },
   "id": "672b394506c54793"
  },
  {
   "cell_type": "markdown",
   "source": [],
   "metadata": {
    "collapsed": false
   },
   "id": "477029726079c81d"
  },
  {
   "cell_type": "code",
   "execution_count": 83,
   "outputs": [
    {
     "data": {
      "text/plain": "<Figure size 640x480 with 1 Axes>",
      "image/png": "[encoded data removed]"
     },
     "metadata": {},
     "output_type": "display_data"
    }
   ],
   "source": [
    "# Compute learning curve data for the Logistic Regression model\n",
    "train_sizes, train_scores, validation_scores = learning_curve(\n",
    "    logisticreg,\n",
    "    X,\n",
    "    y,\n",
    "    train_sizes=[0.1, 0.2, 0.3, 0.4, 0.5, 0.6, 0.7, 0.8, 0.9, 1.0],\n",
    "    cv=5,\n",
    "    scoring='accuracy',\n",
    "    n_jobs=-1\n",
    ")\n",
    "\n",
    "# Calculate mean and standard deviation of training and validation scores\n",
    "train_scores_mean = train_scores.mean(axis=1)\n",
    "train_scores_std = train_scores.std(axis=1)\n",
    "validation_scores_mean = validation_scores.mean(axis=1)\n",
    "validation_scores_std = validation_scores.std(axis=1)\n",
    "\n",
    "# Plot learning curve\n",
    "plt.figure()\n",
    "plt.title(\"Learning Curve\")\n",
    "plt.xlabel(\"Training examples\")\n",
    "plt.ylabel(\"Score\")\n",
    "plt.grid()\n",
    "\n",
    "plt.fill_between(train_sizes, train_scores_mean - train_scores_std, train_scores_mean + train_scores_std, alpha=0.1, color=\"r\")\n",
    "plt.fill_between(train_sizes, validation_scores_mean - validation_scores_std, validation_scores_mean + validation_scores_std, alpha=0.1, color=\"g\")\n",
    "\n",
    "plt.plot(train_sizes, train_scores_mean, 'o-', color=\"r\", label=\"Training score\")\n",
    "plt.plot(train_sizes, validation_scores_mean, 'o-', color=\"g\", label=\"Cross-validation score\")\n",
    "\n",
    "plt.legend(loc=\"best\")\n",
    "plt.show()"
   ],
   "metadata": {
    "collapsed": false,
    "ExecuteTime": {
     "end_time": "2024-08-31T17:57:11.571887Z",
     "start_time": "2024-08-31T17:56:58.381092Z"
    }
   },
   "id": "e235afa8b04c2844"
  }
 ],
 "metadata": {
  "kernelspec": {
   "display_name": "Python 3",
   "language": "python",
   "name": "python3"
  },
  "language_info": {
   "codemirror_mode": {
    "name": "ipython",
    "version": 2
   },
   "file_extension": ".py",
   "mimetype": "text/x-python",
   "name": "python",
   "nbconvert_exporter": "python",
   "pygments_lexer": "ipython2",
   "version": "2.7.6"
  }
 },
 "nbformat": 4,
 "nbformat_minor": 5
}
